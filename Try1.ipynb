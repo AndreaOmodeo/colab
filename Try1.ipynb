{
  "nbformat": 4,
  "nbformat_minor": 0,
  "metadata": {
    "colab": {
      "name": "Try1.ipynb",
      "provenance": [],
      "authorship_tag": "ABX9TyO6ev5mRocjvioOMVXw59Ix",
      "include_colab_link": true
    },
    "kernelspec": {
      "name": "python3",
      "display_name": "Python 3"
    },
    "accelerator": "GPU"
  },
  "cells": [
    {
      "cell_type": "markdown",
      "metadata": {
        "id": "view-in-github",
        "colab_type": "text"
      },
      "source": [
        "<a href=\"https://colab.research.google.com/github/AndreaOmodeo/colab/blob/master/Try1.ipynb\" target=\"_parent\"><img src=\"https://colab.research.google.com/assets/colab-badge.svg\" alt=\"Open In Colab\"/></a>"
      ]
    },
    {
      "cell_type": "code",
      "metadata": {
        "id": "5sXBrSj6v-AR",
        "colab_type": "code",
        "colab": {
          "base_uri": "https://localhost:8080/",
          "height": 102
        },
        "outputId": "8e86a5b8-b2a3-4c1a-895c-b270f8937b5e"
      },
      "source": [
        "!pip install pandas==1.1.0\n",
        "!pip install -Uqq fastai"
      ],
      "execution_count": 1,
      "outputs": [
        {
          "output_type": "stream",
          "text": [
            "Requirement already satisfied: pandas==1.1.0 in /usr/local/lib/python3.6/dist-packages (1.1.0)\n",
            "Requirement already satisfied: pytz>=2017.2 in /usr/local/lib/python3.6/dist-packages (from pandas==1.1.0) (2018.9)\n",
            "Requirement already satisfied: numpy>=1.15.4 in /usr/local/lib/python3.6/dist-packages (from pandas==1.1.0) (1.18.5)\n",
            "Requirement already satisfied: python-dateutil>=2.7.3 in /usr/local/lib/python3.6/dist-packages (from pandas==1.1.0) (2.8.1)\n",
            "Requirement already satisfied: six>=1.5 in /usr/local/lib/python3.6/dist-packages (from python-dateutil>=2.7.3->pandas==1.1.0) (1.15.0)\n"
          ],
          "name": "stdout"
        }
      ]
    },
    {
      "cell_type": "code",
      "metadata": {
        "id": "HxJNH3HbE7-4",
        "colab_type": "code",
        "colab": {
          "base_uri": "https://localhost:8080/",
          "height": 17
        },
        "outputId": "0d4ae4bd-8726-4c25-d640-cbfc842669bb"
      },
      "source": [
        "from fastai.tabular.all import *\n",
        "\n",
        "path = untar_data(URLs.ADULT_SAMPLE)\n",
        "\n",
        "dls = TabularDataLoaders.from_csv(path/'adult.csv', path=path, y_names=\"salary\",    \n",
        "                                  cat_names = ['workclass', 'education', 'marital-status', 'occupation',  'relationship', 'race'],    \n",
        "                                  cont_names = ['age', 'fnlwgt', 'education-num'],    \n",
        "                                  procs = [Categorify, FillMissing, Normalize])\n",
        "\n",
        "learn = tabular_learner(dls, metrics=accuracy)"
      ],
      "execution_count": 15,
      "outputs": [
        {
          "output_type": "display_data",
          "data": {
            "text/html": [
              ""
            ],
            "text/plain": [
              "<IPython.core.display.HTML object>"
            ]
          },
          "metadata": {
            "tags": []
          }
        }
      ]
    },
    {
      "cell_type": "code",
      "metadata": {
        "id": "VcUCjDmWGeWo",
        "colab_type": "code",
        "colab": {
          "base_uri": "https://localhost:8080/",
          "height": 255
        },
        "outputId": "6ea292c0-b9a0-4f15-fb72-daba838c91a6"
      },
      "source": [
        "dls.dataset\n"
      ],
      "execution_count": 18,
      "outputs": [
        {
          "output_type": "execute_result",
          "data": {
            "text/plain": [
              "            age  workclass    fnlwgt  ...  native-country  salary  education-num_na\n",
              "14423 -1.510152          5 -0.482352  ...   United-States       0                 1\n",
              "28530 -0.997103          5 -1.436685  ...   United-States       0                 1\n",
              "17983  1.788019          1  1.988431  ...   United-States       0                 1\n",
              "17036 -0.410761          7  1.592851  ...   United-States       0                 1\n",
              "26670  0.615336          8 -1.264860  ...   United-States       1                 1\n",
              "...         ...        ...       ...  ...             ...     ...               ...\n",
              "8773   1.421556          5  0.418906  ...   United-States       0                 1\n",
              "19312 -0.557347          5  1.911632  ...   United-States       0                 1\n",
              "14513 -1.436859          1 -1.433416  ...   United-States       0                 1\n",
              "10831 -0.850518          5 -0.536395  ...   United-States       0                 1\n",
              "30488  1.201678          7  0.553826  ...   United-States       1                 1\n",
              "\n",
              "[26049 rows x 16 columns]"
            ]
          },
          "metadata": {
            "tags": []
          },
          "execution_count": 18
        }
      ]
    },
    {
      "cell_type": "code",
      "metadata": {
        "id": "ptiF0my6Gnoq",
        "colab_type": "code",
        "colab": {
          "base_uri": "https://localhost:8080/",
          "height": 142
        },
        "outputId": "8ccacd0b-d2fe-4219-ea07-98269d30cc03"
      },
      "source": [
        "learn.fit_one_cycle(3)"
      ],
      "execution_count": 19,
      "outputs": [
        {
          "output_type": "display_data",
          "data": {
            "text/html": [
              "<table border=\"1\" class=\"dataframe\">\n",
              "  <thead>\n",
              "    <tr style=\"text-align: left;\">\n",
              "      <th>epoch</th>\n",
              "      <th>train_loss</th>\n",
              "      <th>valid_loss</th>\n",
              "      <th>accuracy</th>\n",
              "      <th>time</th>\n",
              "    </tr>\n",
              "  </thead>\n",
              "  <tbody>\n",
              "    <tr>\n",
              "      <td>0</td>\n",
              "      <td>0.371463</td>\n",
              "      <td>0.351183</td>\n",
              "      <td>0.835227</td>\n",
              "      <td>00:04</td>\n",
              "    </tr>\n",
              "    <tr>\n",
              "      <td>1</td>\n",
              "      <td>0.359991</td>\n",
              "      <td>0.342394</td>\n",
              "      <td>0.839220</td>\n",
              "      <td>00:04</td>\n",
              "    </tr>\n",
              "    <tr>\n",
              "      <td>2</td>\n",
              "      <td>0.345970</td>\n",
              "      <td>0.337613</td>\n",
              "      <td>0.846130</td>\n",
              "      <td>00:04</td>\n",
              "    </tr>\n",
              "  </tbody>\n",
              "</table>"
            ],
            "text/plain": [
              "<IPython.core.display.HTML object>"
            ]
          },
          "metadata": {
            "tags": []
          }
        }
      ]
    },
    {
      "cell_type": "code",
      "metadata": {
        "id": "s3RVhSIbHNyG",
        "colab_type": "code",
        "colab": {}
      },
      "source": [
        ""
      ],
      "execution_count": null,
      "outputs": []
    }
  ]
}